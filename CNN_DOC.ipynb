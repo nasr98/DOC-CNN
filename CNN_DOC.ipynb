{
  "cells": [
    {
      "cell_type": "markdown",
      "metadata": {
        "id": "view-in-github",
        "colab_type": "text"
      },
      "source": [
        "<a href=\"https://colab.research.google.com/github/nasr98/DOC-CNN/blob/main/CNN_DOC.ipynb\" target=\"_parent\"><img src=\"https://colab.research.google.com/assets/colab-badge.svg\" alt=\"Open In Colab\"/></a>"
      ]
    },
    {
      "cell_type": "markdown",
      "metadata": {
        "id": "aKLImcqSUgSF"
      },
      "source": [
        "# CNN Document Classification"
      ]
    },
    {
      "cell_type": "code",
      "execution_count": 1,
      "metadata": {
        "colab": {
          "base_uri": "https://localhost:8080/"
        },
        "id": "rqftkgWiL7xu",
        "outputId": "d222ed4a-8c6f-4c5b-cfea-828bcfdef48a"
      },
      "outputs": [
        {
          "output_type": "stream",
          "name": "stdout",
          "text": [
            "Looking in indexes: https://pypi.org/simple, https://us-python.pkg.dev/colab-wheels/public/simple/\n",
            "Requirement already satisfied: opencv-python in /usr/local/lib/python3.7/dist-packages (4.6.0.66)\n",
            "Requirement already satisfied: numpy>=1.14.5 in /usr/local/lib/python3.7/dist-packages (from opencv-python) (1.21.6)\n",
            "Looking in indexes: https://pypi.org/simple, https://us-python.pkg.dev/colab-wheels/public/simple/\n",
            "Requirement already satisfied: opendatasets in /usr/local/lib/python3.7/dist-packages (0.1.22)\n",
            "Requirement already satisfied: kaggle in /usr/local/lib/python3.7/dist-packages (from opendatasets) (1.5.12)\n",
            "Requirement already satisfied: click in /usr/local/lib/python3.7/dist-packages (from opendatasets) (7.1.2)\n",
            "Requirement already satisfied: tqdm in /usr/local/lib/python3.7/dist-packages (from opendatasets) (4.64.1)\n",
            "Requirement already satisfied: requests in /usr/local/lib/python3.7/dist-packages (from kaggle->opendatasets) (2.23.0)\n",
            "Requirement already satisfied: urllib3 in /usr/local/lib/python3.7/dist-packages (from kaggle->opendatasets) (1.24.3)\n",
            "Requirement already satisfied: python-slugify in /usr/local/lib/python3.7/dist-packages (from kaggle->opendatasets) (6.1.2)\n",
            "Requirement already satisfied: certifi in /usr/local/lib/python3.7/dist-packages (from kaggle->opendatasets) (2022.9.24)\n",
            "Requirement already satisfied: python-dateutil in /usr/local/lib/python3.7/dist-packages (from kaggle->opendatasets) (2.8.2)\n",
            "Requirement already satisfied: six>=1.10 in /usr/local/lib/python3.7/dist-packages (from kaggle->opendatasets) (1.15.0)\n",
            "Requirement already satisfied: text-unidecode>=1.3 in /usr/local/lib/python3.7/dist-packages (from python-slugify->kaggle->opendatasets) (1.3)\n",
            "Requirement already satisfied: chardet<4,>=3.0.2 in /usr/local/lib/python3.7/dist-packages (from requests->kaggle->opendatasets) (3.0.4)\n",
            "Requirement already satisfied: idna<3,>=2.5 in /usr/local/lib/python3.7/dist-packages (from requests->kaggle->opendatasets) (2.10)\n",
            "Looking in indexes: https://pypi.org/simple, https://us-python.pkg.dev/colab-wheels/public/simple/\n",
            "Requirement already satisfied: ann_visualizer in /usr/local/lib/python3.7/dist-packages (2.5)\n",
            "Looking in indexes: https://pypi.org/simple, https://us-python.pkg.dev/colab-wheels/public/simple/\n",
            "Requirement already satisfied: graphviz in /usr/local/lib/python3.7/dist-packages (0.10.1)\n"
          ]
        }
      ],
      "source": [
        "!pip install opencv-python\n",
        "!pip install opendatasets\n",
        "!pip3 install ann_visualizer\n",
        "!pip install graphviz"
      ]
    },
    {
      "cell_type": "code",
      "execution_count": 2,
      "metadata": {
        "id": "Kw71cmXJTyiv"
      },
      "outputs": [],
      "source": [
        "import tensorflow as tf\n",
        "import numpy as np\n",
        "import pandas as pd\n",
        "import opendatasets as op\n",
        "import cv2 as cv\n",
        "import ann_visualizer as an\n",
        "import graphviz as gv\n",
        "import pathlib\n",
        "import os\n",
        "import keras"
      ]
    },
    {
      "cell_type": "markdown",
      "metadata": {
        "id": "tl-PM4ZUVIJl"
      },
      "source": [
        "## Data Preparation"
      ]
    },
    {
      "cell_type": "markdown",
      "metadata": {
        "id": "aj9tK6ZhBh7O"
      },
      "source": [
        "### Download Dataset"
      ]
    },
    {
      "cell_type": "code",
      "execution_count": 3,
      "metadata": {
        "colab": {
          "base_uri": "https://localhost:8080/"
        },
        "id": "IxGyA1LcMAXq",
        "outputId": "680076fe-df50-4ac5-d103-077007526e41"
      },
      "outputs": [
        {
          "output_type": "stream",
          "name": "stdout",
          "text": [
            "Skipping, found downloaded files in \"./the-rvlcdip-dataset-test\" (use force=True to force download)\n"
          ]
        }
      ],
      "source": [
        "import shutil\n",
        "op.download(\"https://www.kaggle.com/datasets/pdavpoojan/the-rvlcdip-dataset-test\")\n",
        "# try:\n",
        "#   shutil.rmtree(\"/content/the-rvlcdip-dataset-test/test/scientific_publication\")\n",
        "# except FileNotFoundError:\n",
        "#   print('Skip')"
      ]
    },
    {
      "cell_type": "code",
      "execution_count": 4,
      "metadata": {
        "id": "Az-jB8dJ9t2I",
        "outputId": "d4072be7-0c14-4212-a587-eb84b1181482",
        "colab": {
          "base_uri": "https://localhost:8080/"
        }
      },
      "outputs": [
        {
          "output_type": "execute_result",
          "data": {
            "text/plain": [
              "(1000, 754, 3)"
            ]
          },
          "metadata": {},
          "execution_count": 4
        }
      ],
      "source": [
        "cv.imread('the-rvlcdip-dataset-test/test/advertisement/00001014.tif').shape\n"
      ]
    },
    {
      "cell_type": "markdown",
      "metadata": {
        "id": "ObezRAzVBos-"
      },
      "source": [
        "\n",
        "### Prepare Tensor Dataset"
      ]
    },
    {
      "cell_type": "code",
      "execution_count": 5,
      "metadata": {
        "id": "OaPN1O_1O3aQ"
      },
      "outputs": [],
      "source": [
        "data_dir = 'the-rvlcdip-dataset-test/test'\n",
        "\n",
        "def create_dataset(path,h,w):\n",
        "  dir_list = [x for x in os.listdir(path)]\n",
        "  dir_enum = {x:dir_list.index(x)+1 for x in dir_list}\n",
        "  print(dir_enum)\n",
        "  master = []\n",
        "  label = []\n",
        "  for x in dir_list:\n",
        "    try:\n",
        "      print(x)\n",
        "      spec_path = path+'/'+x\n",
        "      #Setting image size to 32,32, color to grey and normalize pixels\n",
        "      img = [tf.image.resize(cv.imread(spec_path + '/' +y), tf.constant([h, w]))/255.0 for y in os.listdir(spec_path) if np.shape(cv.imread(spec_path + '/' +y)) != ()]\n",
        "      labels = [dir_enum[x] for y in img]\n",
        "      #extend master list with images and labels\n",
        "      master.extend(img)\n",
        "      label.extend(labels)\n",
        "      del img\n",
        "      del labels\n",
        "    except TypeError:\n",
        "      print(x)\n",
        "  #Organize data in df\n",
        "  t_df = pd.DataFrame(list(zip(label,master)),columns=['label','image'])\n",
        "  #Convert DF to DS\n",
        "  # t_ds = tf.data.Dataset.from_tensor_slices((list(t_df['image'].values), t_df['label'].values))\n",
        "  return t_df,dir_enum"
      ]
    },
    {
      "cell_type": "code",
      "execution_count": 6,
      "metadata": {
        "id": "2felAXA8B07p"
      },
      "outputs": [],
      "source": [
        "if os.path.exists(\"./rvlcdip.pkl\"):\n",
        "  df = pd.read_pickle(\"./rvlcdip.pkl\")\n",
        "else:\n",
        "  df,dir_enum = create_dataset(data_dir,32,32)\n",
        "  df.to_pickle(\"./rvlcdip.pkl\")"
      ]
    },
    {
      "cell_type": "code",
      "execution_count": 7,
      "metadata": {
        "id": "nGuDOQdJ9t2K",
        "outputId": "bb24a183-6445-4e53-de87-f65dd4d5e5a8",
        "colab": {
          "base_uri": "https://localhost:8080/"
        }
      },
      "outputs": [
        {
          "output_type": "execute_result",
          "data": {
            "text/plain": [
              "TensorShape([32, 32, 3])"
            ]
          },
          "metadata": {},
          "execution_count": 7
        }
      ],
      "source": [
        "df['image'][0].shape"
      ]
    },
    {
      "cell_type": "code",
      "execution_count": 8,
      "metadata": {
        "colab": {
          "base_uri": "https://localhost:8080/"
        },
        "id": "alqb6Eof66Ao",
        "outputId": "55915261-fd22-4c1e-9660-1b020c658f17"
      },
      "outputs": [
        {
          "output_type": "execute_result",
          "data": {
            "text/plain": [
              "<TensorDataset element_spec=(TensorSpec(shape=(39996, 32, 32, 3), dtype=tf.float32, name=None), TensorSpec(shape=(39996,), dtype=tf.int64, name=None))>"
            ]
          },
          "metadata": {},
          "execution_count": 8
        }
      ],
      "source": [
        "ds = tf.data.Dataset.from_tensors((list(df['image'].values), df['label'].values))\n",
        "ds"
      ]
    },
    {
      "cell_type": "markdown",
      "metadata": {
        "id": "bSGvDn04E0gR"
      },
      "source": [
        "## EDA"
      ]
    },
    {
      "cell_type": "markdown",
      "metadata": {
        "id": "jHKqwopSnnuj"
      },
      "source": [
        "### Sample Images"
      ]
    },
    {
      "cell_type": "code",
      "execution_count": 9,
      "metadata": {
        "colab": {
          "base_uri": "https://localhost:8080/",
          "height": 589
        },
        "id": "_BjDkui4g6-P",
        "outputId": "8d224393-ac37-41c3-d42f-449ca78225db"
      },
      "outputs": [
        {
          "output_type": "display_data",
          "data": {
            "text/plain": [
              "<Figure size 720x720 with 25 Axes>"
            ],
            "image/png": "[encoded data removed]"
          },
          "metadata": {}
        }
      ],
      "source": [
        "import matplotlib.pyplot as plt\n",
        "from sklearn.utils import shuffle\n",
        "\n",
        "plt.figure(figsize=(10,10))\n",
        "df1 = df.sample(frac=1).reset_index(drop=True)\n",
        "for i in range(25):\n",
        "    plt.subplot(5,5,i+1)\n",
        "    plt.xticks([])\n",
        "    plt.yticks([])\n",
        "    plt.imshow(df1['image'][i])\n",
        "    plt.xlabel(df1['label'][i])\n"
      ]
    },
    {
      "cell_type": "markdown",
      "metadata": {
        "id": "zTvNGGAJAqqS"
      },
      "source": [
        "### Images by label"
      ]
    },
    {
      "cell_type": "code",
      "execution_count": 10,
      "metadata": {
        "colab": {
          "base_uri": "https://localhost:8080/",
          "height": 283
        },
        "id": "gbGec0kLE5Vj",
        "outputId": "a682dcf3-eabb-4b55-f953-7df7a9b04d71"
      },
      "outputs": [
        {
          "output_type": "execute_result",
          "data": {
            "text/plain": [
              "<matplotlib.axes._subplots.AxesSubplot at 0x7f60a1073110>"
            ]
          },
          "metadata": {},
          "execution_count": 10
        },
        {
          "output_type": "display_data",
          "data": {
            "text/plain": [
              "<Figure size 432x288 with 1 Axes>"
            ],
            "image/png": "[encoded data removed]"
          },
          "metadata": {
            "needs_background": "light"
          }
        }
      ],
      "source": [
        "df['label'].value_counts().sort_values().plot(kind = 'barh',)"
      ]
    },
    {
      "cell_type": "markdown",
      "metadata": {
        "id": "CGU78MvqVRvj"
      },
      "source": [
        "## Architecture Definition"
      ]
    },
    {
      "cell_type": "markdown",
      "metadata": {
        "id": "ZAEkadSOqxai"
      },
      "source": [
        "### Convolution Base"
      ]
    },
    {
      "cell_type": "code",
      "execution_count": 22,
      "metadata": {
        "colab": {
          "base_uri": "https://localhost:8080/"
        },
        "id": "pBB_C2HzrNVG",
        "outputId": "0ccd3e25-cbe4-4992-837c-6a523a2408cd"
      },
      "outputs": [
        {
          "output_type": "execute_result",
          "data": {
            "text/plain": [
              "TensorShape([32, 32, 3])"
            ]
          },
          "metadata": {},
          "execution_count": 22
        }
      ],
      "source": [
        "df['image'][0].shape"
      ]
    },
    {
      "cell_type": "markdown",
      "source": [
        "Edit: added dropout"
      ],
      "metadata": {
        "id": "uB9AUSgBvteq"
      }
    },
    {
      "cell_type": "code",
      "execution_count": 23,
      "metadata": {
        "colab": {
          "base_uri": "https://localhost:8080/"
        },
        "id": "HotBDMg_8kkj",
        "outputId": "2989ef26-b38a-40ed-b05c-8bc389123be0"
      },
      "outputs": [
        {
          "output_type": "stream",
          "name": "stdout",
          "text": [
            "Model: \"sequential_1\"\n",
            "_________________________________________________________________\n",
            " Layer (type)                Output Shape              Param #   \n",
            "=================================================================\n",
            " conv2d_3 (Conv2D)           (None, 30, 30, 32)        896       \n",
            "                                                                 \n",
            " max_pooling2d_2 (MaxPooling  (None, 15, 15, 32)       0         \n",
            " 2D)                                                             \n",
            "                                                                 \n",
            " dropout (Dropout)           (None, 15, 15, 32)        0         \n",
            "                                                                 \n",
            " conv2d_4 (Conv2D)           (None, 13, 13, 64)        18496     \n",
            "                                                                 \n",
            " max_pooling2d_3 (MaxPooling  (None, 6, 6, 64)         0         \n",
            " 2D)                                                             \n",
            "                                                                 \n",
            " dropout_1 (Dropout)         (None, 6, 6, 64)          0         \n",
            "                                                                 \n",
            " conv2d_5 (Conv2D)           (None, 4, 4, 64)          36928     \n",
            "                                                                 \n",
            "=================================================================\n",
            "Total params: 56,320\n",
            "Trainable params: 56,320\n",
            "Non-trainable params: 0\n",
            "_________________________________________________________________\n"
          ]
        }
      ],
      "source": [
        "model = tf.keras.models.Sequential()\n",
        "model.add(tf.keras.layers.Conv2D(32, (3, 3), activation='relu', input_shape=(32,32,3))) # input layer\n",
        "\n",
        "#hidden layer#\n",
        "model.add(tf.keras.layers.MaxPooling2D((2, 2))) \n",
        "model.add(tf.keras.layers.Dropout(0.2)) \n",
        "model.add(tf.keras.layers.Conv2D(64, (3, 3), activation='relu'))\n",
        "model.add(tf.keras.layers.MaxPooling2D((2, 2)))\n",
        "model.add(tf.keras.layers.Dropout(0.2))\n",
        "#############\n",
        "\n",
        "model.add(tf.keras.layers.Conv2D(64, (3, 3), activation='relu')) # output layer\n",
        "\n",
        "model.summary()"
      ]
    },
    {
      "cell_type": "markdown",
      "metadata": {
        "id": "31TZz7MxszrV"
      },
      "source": [
        "### Dense Layers"
      ]
    },
    {
      "cell_type": "code",
      "execution_count": 24,
      "metadata": {
        "id": "vWYjtJ6Ls1WB"
      },
      "outputs": [],
      "source": [
        "model.add(tf.keras.layers.Flatten())\n",
        "model.add(tf.keras.layers.Dense(64, activation='relu'))\n",
        "model.add(tf.keras.layers.Dense(17))"
      ]
    },
    {
      "cell_type": "code",
      "execution_count": 25,
      "metadata": {
        "id": "ygdLXWp7s6u0",
        "outputId": "ff507755-be53-4f0c-88b5-b278f45e93fb",
        "colab": {
          "base_uri": "https://localhost:8080/"
        }
      },
      "outputs": [
        {
          "output_type": "stream",
          "name": "stdout",
          "text": [
            "Model: \"sequential_1\"\n",
            "_________________________________________________________________\n",
            " Layer (type)                Output Shape              Param #   \n",
            "=================================================================\n",
            " conv2d_3 (Conv2D)           (None, 30, 30, 32)        896       \n",
            "                                                                 \n",
            " max_pooling2d_2 (MaxPooling  (None, 15, 15, 32)       0         \n",
            " 2D)                                                             \n",
            "                                                                 \n",
            " dropout (Dropout)           (None, 15, 15, 32)        0         \n",
            "                                                                 \n",
            " conv2d_4 (Conv2D)           (None, 13, 13, 64)        18496     \n",
            "                                                                 \n",
            " max_pooling2d_3 (MaxPooling  (None, 6, 6, 64)         0         \n",
            " 2D)                                                             \n",
            "                                                                 \n",
            " dropout_1 (Dropout)         (None, 6, 6, 64)          0         \n",
            "                                                                 \n",
            " conv2d_5 (Conv2D)           (None, 4, 4, 64)          36928     \n",
            "                                                                 \n",
            " flatten_1 (Flatten)         (None, 1024)              0         \n",
            "                                                                 \n",
            " dense_2 (Dense)             (None, 64)                65600     \n",
            "                                                                 \n",
            " dense_3 (Dense)             (None, 17)                1105      \n",
            "                                                                 \n",
            "=================================================================\n",
            "Total params: 123,025\n",
            "Trainable params: 123,025\n",
            "Non-trainable params: 0\n",
            "_________________________________________________________________\n"
          ]
        }
      ],
      "source": [
        "model.summary()"
      ]
    },
    {
      "cell_type": "markdown",
      "metadata": {
        "id": "2VL_MA8Mu_a3"
      },
      "source": [
        "### Architecture Viz"
      ]
    },
    {
      "cell_type": "code",
      "execution_count": 26,
      "metadata": {
        "id": "mezsgsHus8Ps"
      },
      "outputs": [],
      "source": [
        "from ann_visualizer.visualize import ann_viz\n",
        "ann_viz(model, view=True, title=\"DOC CNN\", filename='./doccnn.gv')"
      ]
    },
    {
      "cell_type": "markdown",
      "metadata": {
        "id": "4CNy7ydttBl5"
      },
      "source": [
        "## Training: Base Scoring"
      ]
    },
    {
      "cell_type": "markdown",
      "metadata": {
        "id": "TQq8H6BxL425"
      },
      "source": [
        "#### Splitting into Train,Test,Val"
      ]
    },
    {
      "cell_type": "code",
      "execution_count": 27,
      "metadata": {
        "id": "XZrSuaDIOWfc"
      },
      "outputs": [],
      "source": [
        "trainset = ds.shard(2, 0)\n",
        "testset = ds.shard(2, 1)"
      ]
    },
    {
      "cell_type": "markdown",
      "metadata": {
        "id": "1KL5wdBzMALG"
      },
      "source": [
        "#### Compilation/Training"
      ]
    },
    {
      "cell_type": "code",
      "execution_count": 28,
      "metadata": {
        "id": "zIfDUH_8t2GA"
      },
      "outputs": [],
      "source": [
        "model.compile(optimizer='adam',\n",
        "              loss=tf.keras.losses.SparseCategoricalCrossentropy(from_logits=True),\n",
        "              metrics=['accuracy'],run_eagerly=True,)"
      ]
    },
    {
      "cell_type": "markdown",
      "source": [
        "Edit: increased epochs from 50 to 200"
      ],
      "metadata": {
        "id": "v4vwDO2Mv_Cl"
      }
    },
    {
      "cell_type": "code",
      "execution_count": 29,
      "metadata": {
        "colab": {
          "base_uri": "https://localhost:8080/"
        },
        "id": "CEu4tZdvtC3b",
        "outputId": "55be53d8-74b6-48bf-dc2d-6210ab094aca"
      },
      "outputs": [
        {
          "output_type": "stream",
          "name": "stdout",
          "text": [
            "Epoch 1/200\n",
            "1/1 [==============================] - 10s 10s/step - loss: 2.8305 - accuracy: 0.0635\n",
            "Epoch 2/200\n",
            "1/1 [==============================] - 10s 10s/step - loss: 2.8108 - accuracy: 0.0625\n",
            "Epoch 3/200\n",
            "1/1 [==============================] - 9s 9s/step - loss: 2.7926 - accuracy: 0.0668\n",
            "Epoch 4/200\n",
            "1/1 [==============================] - 9s 9s/step - loss: 2.7762 - accuracy: 0.0893\n",
            "Epoch 5/200\n",
            "1/1 [==============================] - 9s 9s/step - loss: 2.7625 - accuracy: 0.0790\n",
            "Epoch 6/200\n",
            "1/1 [==============================] - 9s 9s/step - loss: 2.7449 - accuracy: 0.0990\n",
            "Epoch 7/200\n",
            "1/1 [==============================] - 9s 9s/step - loss: 2.7248 - accuracy: 0.1142\n",
            "Epoch 8/200\n",
            "1/1 [==============================] - 9s 9s/step - loss: 2.7002 - accuracy: 0.1071\n",
            "Epoch 9/200\n",
            "1/1 [==============================] - 9s 9s/step - loss: 2.6698 - accuracy: 0.1145\n",
            "Epoch 10/200\n",
            "1/1 [==============================] - 9s 9s/step - loss: 2.6457 - accuracy: 0.1286\n",
            "Epoch 11/200\n",
            "1/1 [==============================] - 9s 9s/step - loss: 2.6272 - accuracy: 0.1442\n",
            "Epoch 12/200\n",
            "1/1 [==============================] - 9s 9s/step - loss: 2.6201 - accuracy: 0.1436\n",
            "Epoch 13/200\n",
            "1/1 [==============================] - 9s 9s/step - loss: 2.6051 - accuracy: 0.1564\n",
            "Epoch 14/200\n",
            "1/1 [==============================] - 9s 9s/step - loss: 2.5878 - accuracy: 0.1634\n",
            "Epoch 15/200\n",
            "1/1 [==============================] - 9s 9s/step - loss: 2.5814 - accuracy: 0.1687\n",
            "Epoch 16/200\n",
            "1/1 [==============================] - 9s 9s/step - loss: 2.5674 - accuracy: 0.1773\n",
            "Epoch 17/200\n",
            "1/1 [==============================] - 9s 9s/step - loss: 2.5520 - accuracy: 0.1832\n",
            "Epoch 18/200\n",
            "1/1 [==============================] - 9s 9s/step - loss: 2.5384 - accuracy: 0.1775\n",
            "Epoch 19/200\n",
            "1/1 [==============================] - 9s 9s/step - loss: 2.5198 - accuracy: 0.1849\n",
            "Epoch 20/200\n",
            "1/1 [==============================] - 9s 9s/step - loss: 2.5051 - accuracy: 0.1891\n",
            "Epoch 21/200\n",
            "1/1 [==============================] - 9s 9s/step - loss: 2.4907 - accuracy: 0.1930\n",
            "Epoch 22/200\n",
            "1/1 [==============================] - 9s 9s/step - loss: 2.4754 - accuracy: 0.2005\n",
            "Epoch 23/200\n",
            "1/1 [==============================] - 9s 9s/step - loss: 2.4606 - accuracy: 0.2092\n",
            "Epoch 24/200\n",
            "1/1 [==============================] - 9s 9s/step - loss: 2.4469 - accuracy: 0.2124\n",
            "Epoch 25/200\n",
            "1/1 [==============================] - 9s 9s/step - loss: 2.4346 - accuracy: 0.2279\n",
            "Epoch 26/200\n",
            "1/1 [==============================] - 9s 9s/step - loss: 2.4273 - accuracy: 0.2318\n",
            "Epoch 27/200\n",
            "1/1 [==============================] - 9s 9s/step - loss: 2.4157 - accuracy: 0.2361\n",
            "Epoch 28/200\n",
            "1/1 [==============================] - 9s 9s/step - loss: 2.4049 - accuracy: 0.2374\n",
            "Epoch 29/200\n",
            "1/1 [==============================] - 9s 9s/step - loss: 2.3921 - accuracy: 0.2455\n",
            "Epoch 30/200\n",
            "1/1 [==============================] - 9s 9s/step - loss: 2.3807 - accuracy: 0.2554\n",
            "Epoch 31/200\n",
            "1/1 [==============================] - 9s 9s/step - loss: 2.3788 - accuracy: 0.2444\n",
            "Epoch 32/200\n",
            "1/1 [==============================] - 9s 9s/step - loss: 2.3672 - accuracy: 0.2486\n",
            "Epoch 33/200\n",
            "1/1 [==============================] - 9s 9s/step - loss: 2.3562 - accuracy: 0.2597\n",
            "Epoch 34/200\n",
            "1/1 [==============================] - 9s 9s/step - loss: 2.3543 - accuracy: 0.2500\n",
            "Epoch 35/200\n",
            "1/1 [==============================] - 9s 9s/step - loss: 2.3402 - accuracy: 0.2595\n",
            "Epoch 36/200\n",
            "1/1 [==============================] - 9s 9s/step - loss: 2.3380 - accuracy: 0.2613\n",
            "Epoch 37/200\n",
            "1/1 [==============================] - 9s 9s/step - loss: 2.3326 - accuracy: 0.2580\n",
            "Epoch 38/200\n",
            "1/1 [==============================] - 9s 9s/step - loss: 2.3222 - accuracy: 0.2666\n",
            "Epoch 39/200\n",
            "1/1 [==============================] - 9s 9s/step - loss: 2.3198 - accuracy: 0.2711\n",
            "Epoch 40/200\n",
            "1/1 [==============================] - 9s 9s/step - loss: 2.3116 - accuracy: 0.2687\n",
            "Epoch 41/200\n",
            "1/1 [==============================] - 9s 9s/step - loss: 2.3082 - accuracy: 0.2699\n",
            "Epoch 42/200\n",
            "1/1 [==============================] - 9s 9s/step - loss: 2.2996 - accuracy: 0.2777\n",
            "Epoch 43/200\n",
            "1/1 [==============================] - 9s 9s/step - loss: 2.2977 - accuracy: 0.2735\n",
            "Epoch 44/200\n",
            "1/1 [==============================] - 9s 9s/step - loss: 2.2923 - accuracy: 0.2795\n",
            "Epoch 45/200\n",
            "1/1 [==============================] - 9s 9s/step - loss: 2.2869 - accuracy: 0.2841\n",
            "Epoch 46/200\n",
            "1/1 [==============================] - 9s 9s/step - loss: 2.2792 - accuracy: 0.2822\n",
            "Epoch 47/200\n",
            "1/1 [==============================] - 9s 9s/step - loss: 2.2764 - accuracy: 0.2863\n",
            "Epoch 48/200\n",
            "1/1 [==============================] - 9s 9s/step - loss: 2.2745 - accuracy: 0.2873\n",
            "Epoch 49/200\n",
            "1/1 [==============================] - 9s 9s/step - loss: 2.2683 - accuracy: 0.2876\n",
            "Epoch 50/200\n",
            "1/1 [==============================] - 9s 9s/step - loss: 2.2593 - accuracy: 0.2918\n",
            "Epoch 51/200\n",
            "1/1 [==============================] - 9s 9s/step - loss: 2.2575 - accuracy: 0.2913\n",
            "Epoch 52/200\n",
            "1/1 [==============================] - 9s 9s/step - loss: 2.2567 - accuracy: 0.2915\n",
            "Epoch 53/200\n",
            "1/1 [==============================] - 9s 9s/step - loss: 2.2527 - accuracy: 0.2927\n",
            "Epoch 54/200\n",
            "1/1 [==============================] - 9s 9s/step - loss: 2.2575 - accuracy: 0.2927\n",
            "Epoch 55/200\n",
            "1/1 [==============================] - 9s 9s/step - loss: 2.2606 - accuracy: 0.2858\n",
            "Epoch 56/200\n",
            "1/1 [==============================] - 9s 9s/step - loss: 2.2409 - accuracy: 0.3028\n",
            "Epoch 57/200\n",
            "1/1 [==============================] - 9s 9s/step - loss: 2.2392 - accuracy: 0.3004\n",
            "Epoch 58/200\n",
            "1/1 [==============================] - 9s 9s/step - loss: 2.2409 - accuracy: 0.2935\n",
            "Epoch 59/200\n",
            "1/1 [==============================] - 9s 9s/step - loss: 2.2328 - accuracy: 0.3008\n",
            "Epoch 60/200\n",
            "1/1 [==============================] - 9s 9s/step - loss: 2.2324 - accuracy: 0.3016\n",
            "Epoch 61/200\n",
            "1/1 [==============================] - 9s 9s/step - loss: 2.2237 - accuracy: 0.3040\n",
            "Epoch 62/200\n",
            "1/1 [==============================] - 9s 9s/step - loss: 2.2255 - accuracy: 0.3036\n",
            "Epoch 63/200\n",
            "1/1 [==============================] - 9s 9s/step - loss: 2.2145 - accuracy: 0.3080\n",
            "Epoch 64/200\n",
            "1/1 [==============================] - 9s 9s/step - loss: 2.2132 - accuracy: 0.3098\n",
            "Epoch 65/200\n",
            "1/1 [==============================] - 9s 9s/step - loss: 2.2122 - accuracy: 0.3077\n",
            "Epoch 66/200\n",
            "1/1 [==============================] - 9s 9s/step - loss: 2.2028 - accuracy: 0.3105\n",
            "Epoch 67/200\n",
            "1/1 [==============================] - 9s 9s/step - loss: 2.2035 - accuracy: 0.3110\n",
            "Epoch 68/200\n",
            "1/1 [==============================] - 9s 9s/step - loss: 2.1980 - accuracy: 0.3145\n",
            "Epoch 69/200\n",
            "1/1 [==============================] - 9s 9s/step - loss: 2.1920 - accuracy: 0.3154\n",
            "Epoch 70/200\n",
            "1/1 [==============================] - 9s 9s/step - loss: 2.1938 - accuracy: 0.3156\n",
            "Epoch 71/200\n",
            "1/1 [==============================] - 9s 9s/step - loss: 2.1875 - accuracy: 0.3164\n",
            "Epoch 72/200\n",
            "1/1 [==============================] - 9s 9s/step - loss: 2.1824 - accuracy: 0.3215\n",
            "Epoch 73/200\n",
            "1/1 [==============================] - 9s 9s/step - loss: 2.1819 - accuracy: 0.3192\n",
            "Epoch 74/200\n",
            "1/1 [==============================] - 9s 9s/step - loss: 2.1749 - accuracy: 0.3191\n",
            "Epoch 75/200\n",
            "1/1 [==============================] - 9s 9s/step - loss: 2.1750 - accuracy: 0.3213\n",
            "Epoch 76/200\n",
            "1/1 [==============================] - 9s 9s/step - loss: 2.1716 - accuracy: 0.3218\n",
            "Epoch 77/200\n",
            "1/1 [==============================] - 9s 9s/step - loss: 2.1678 - accuracy: 0.3241\n",
            "Epoch 78/200\n",
            "1/1 [==============================] - 9s 9s/step - loss: 2.1688 - accuracy: 0.3229\n",
            "Epoch 79/200\n",
            "1/1 [==============================] - 9s 9s/step - loss: 2.1705 - accuracy: 0.3242\n",
            "Epoch 80/200\n",
            "1/1 [==============================] - 9s 9s/step - loss: 2.1778 - accuracy: 0.3188\n",
            "Epoch 81/200\n",
            "1/1 [==============================] - 9s 9s/step - loss: 2.1736 - accuracy: 0.3226\n",
            "Epoch 82/200\n",
            "1/1 [==============================] - 9s 9s/step - loss: 2.1497 - accuracy: 0.3310\n",
            "Epoch 83/200\n",
            "1/1 [==============================] - 9s 9s/step - loss: 2.1555 - accuracy: 0.3282\n",
            "Epoch 84/200\n",
            "1/1 [==============================] - 10s 10s/step - loss: 2.1634 - accuracy: 0.3264\n",
            "Epoch 85/200\n",
            "1/1 [==============================] - 11s 11s/step - loss: 2.1461 - accuracy: 0.3300\n",
            "Epoch 86/200\n",
            "1/1 [==============================] - 13s 13s/step - loss: 2.1478 - accuracy: 0.3319\n",
            "Epoch 87/200\n",
            "1/1 [==============================] - 9s 9s/step - loss: 2.1455 - accuracy: 0.3321\n",
            "Epoch 88/200\n",
            "1/1 [==============================] - 9s 9s/step - loss: 2.1361 - accuracy: 0.3360\n",
            "Epoch 89/200\n",
            "1/1 [==============================] - 8s 8s/step - loss: 2.1398 - accuracy: 0.3348\n",
            "Epoch 90/200\n",
            "1/1 [==============================] - 8s 8s/step - loss: 2.1322 - accuracy: 0.3372\n",
            "Epoch 91/200\n",
            "1/1 [==============================] - 9s 9s/step - loss: 2.1246 - accuracy: 0.3379\n",
            "Epoch 92/200\n",
            "1/1 [==============================] - 8s 8s/step - loss: 2.1279 - accuracy: 0.3390\n",
            "Epoch 93/200\n",
            "1/1 [==============================] - 8s 8s/step - loss: 2.1179 - accuracy: 0.3426\n",
            "Epoch 94/200\n",
            "1/1 [==============================] - 8s 8s/step - loss: 2.1183 - accuracy: 0.3405\n",
            "Epoch 95/200\n",
            "1/1 [==============================] - 8s 8s/step - loss: 2.1131 - accuracy: 0.3423\n",
            "Epoch 96/200\n",
            "1/1 [==============================] - 8s 8s/step - loss: 2.1101 - accuracy: 0.3457\n",
            "Epoch 97/200\n",
            "1/1 [==============================] - 8s 8s/step - loss: 2.1091 - accuracy: 0.3421\n",
            "Epoch 98/200\n",
            "1/1 [==============================] - 8s 8s/step - loss: 2.1015 - accuracy: 0.3474\n",
            "Epoch 99/200\n",
            "1/1 [==============================] - 8s 8s/step - loss: 2.1022 - accuracy: 0.3472\n",
            "Epoch 100/200\n",
            "1/1 [==============================] - 8s 8s/step - loss: 2.0986 - accuracy: 0.3481\n",
            "Epoch 101/200\n",
            "1/1 [==============================] - 8s 8s/step - loss: 2.0931 - accuracy: 0.3495\n",
            "Epoch 102/200\n",
            "1/1 [==============================] - 8s 8s/step - loss: 2.0943 - accuracy: 0.3498\n",
            "Epoch 103/200\n",
            "1/1 [==============================] - 8s 8s/step - loss: 2.0888 - accuracy: 0.3484\n",
            "Epoch 104/200\n",
            "1/1 [==============================] - 8s 8s/step - loss: 2.0832 - accuracy: 0.3520\n",
            "Epoch 105/200\n",
            "1/1 [==============================] - 8s 8s/step - loss: 2.0847 - accuracy: 0.3554\n",
            "Epoch 106/200\n",
            "1/1 [==============================] - 8s 8s/step - loss: 2.0821 - accuracy: 0.3550\n",
            "Epoch 107/200\n",
            "1/1 [==============================] - 8s 8s/step - loss: 2.0800 - accuracy: 0.3552\n",
            "Epoch 108/200\n",
            "1/1 [==============================] - 8s 8s/step - loss: 2.0826 - accuracy: 0.3550\n",
            "Epoch 109/200\n",
            "1/1 [==============================] - 8s 8s/step - loss: 2.0808 - accuracy: 0.3521\n",
            "Epoch 110/200\n",
            "1/1 [==============================] - 8s 8s/step - loss: 2.0722 - accuracy: 0.3559\n",
            "Epoch 111/200\n",
            "1/1 [==============================] - 8s 8s/step - loss: 2.0643 - accuracy: 0.3597\n",
            "Epoch 112/200\n",
            "1/1 [==============================] - 8s 8s/step - loss: 2.0609 - accuracy: 0.3603\n",
            "Epoch 113/200\n",
            "1/1 [==============================] - 8s 8s/step - loss: 2.0600 - accuracy: 0.3616\n",
            "Epoch 114/200\n",
            "1/1 [==============================] - 8s 8s/step - loss: 2.0603 - accuracy: 0.3593\n",
            "Epoch 115/200\n",
            "1/1 [==============================] - 8s 8s/step - loss: 2.0584 - accuracy: 0.3630\n",
            "Epoch 116/200\n",
            "1/1 [==============================] - 8s 8s/step - loss: 2.0577 - accuracy: 0.3603\n",
            "Epoch 117/200\n",
            "1/1 [==============================] - 8s 8s/step - loss: 2.0602 - accuracy: 0.3649\n",
            "Epoch 118/200\n",
            "1/1 [==============================] - 8s 8s/step - loss: 2.0698 - accuracy: 0.3566\n",
            "Epoch 119/200\n",
            "1/1 [==============================] - 8s 8s/step - loss: 2.0537 - accuracy: 0.3621\n",
            "Epoch 120/200\n",
            "1/1 [==============================] - 8s 8s/step - loss: 2.0460 - accuracy: 0.3664\n",
            "Epoch 121/200\n",
            "1/1 [==============================] - 8s 8s/step - loss: 2.0464 - accuracy: 0.3663\n",
            "Epoch 122/200\n",
            "1/1 [==============================] - 8s 8s/step - loss: 2.0446 - accuracy: 0.3651\n",
            "Epoch 123/200\n",
            "1/1 [==============================] - 8s 8s/step - loss: 2.0445 - accuracy: 0.3663\n",
            "Epoch 124/200\n",
            "1/1 [==============================] - 8s 8s/step - loss: 2.0348 - accuracy: 0.3720\n",
            "Epoch 125/200\n",
            "1/1 [==============================] - 8s 8s/step - loss: 2.0324 - accuracy: 0.3693\n",
            "Epoch 126/200\n",
            "1/1 [==============================] - 8s 8s/step - loss: 2.0373 - accuracy: 0.3670\n",
            "Epoch 127/200\n",
            "1/1 [==============================] - 8s 8s/step - loss: 2.0296 - accuracy: 0.3739\n",
            "Epoch 128/200\n",
            "1/1 [==============================] - 8s 8s/step - loss: 2.0240 - accuracy: 0.3716\n",
            "Epoch 129/200\n",
            "1/1 [==============================] - 8s 8s/step - loss: 2.0208 - accuracy: 0.3732\n",
            "Epoch 130/200\n",
            "1/1 [==============================] - 8s 8s/step - loss: 2.0198 - accuracy: 0.3753\n",
            "Epoch 131/200\n",
            "1/1 [==============================] - 8s 8s/step - loss: 2.0270 - accuracy: 0.3703\n",
            "Epoch 132/200\n",
            "1/1 [==============================] - 8s 8s/step - loss: 2.0166 - accuracy: 0.3766\n",
            "Epoch 133/200\n",
            "1/1 [==============================] - 9s 9s/step - loss: 2.0104 - accuracy: 0.3766\n",
            "Epoch 134/200\n",
            "1/1 [==============================] - 8s 8s/step - loss: 2.0083 - accuracy: 0.3784\n",
            "Epoch 135/200\n",
            "1/1 [==============================] - 9s 9s/step - loss: 2.0103 - accuracy: 0.3778\n",
            "Epoch 136/200\n",
            "1/1 [==============================] - 8s 8s/step - loss: 2.0073 - accuracy: 0.3761\n",
            "Epoch 137/200\n",
            "1/1 [==============================] - 8s 8s/step - loss: 1.9982 - accuracy: 0.3830\n",
            "Epoch 138/200\n",
            "1/1 [==============================] - 8s 8s/step - loss: 1.9957 - accuracy: 0.3826\n",
            "Epoch 139/200\n",
            "1/1 [==============================] - 8s 8s/step - loss: 1.9945 - accuracy: 0.3824\n",
            "Epoch 140/200\n",
            "1/1 [==============================] - 8s 8s/step - loss: 1.9930 - accuracy: 0.3819\n",
            "Epoch 141/200\n",
            "1/1 [==============================] - 8s 8s/step - loss: 1.9888 - accuracy: 0.3827\n",
            "Epoch 142/200\n",
            "1/1 [==============================] - 8s 8s/step - loss: 1.9852 - accuracy: 0.3856\n",
            "Epoch 143/200\n",
            "1/1 [==============================] - 8s 8s/step - loss: 1.9841 - accuracy: 0.3863\n",
            "Epoch 144/200\n",
            "1/1 [==============================] - 8s 8s/step - loss: 1.9814 - accuracy: 0.3865\n",
            "Epoch 145/200\n",
            "1/1 [==============================] - 8s 8s/step - loss: 1.9795 - accuracy: 0.3879\n",
            "Epoch 146/200\n",
            "1/1 [==============================] - 8s 8s/step - loss: 1.9817 - accuracy: 0.3886\n",
            "Epoch 147/200\n",
            "1/1 [==============================] - 8s 8s/step - loss: 1.9811 - accuracy: 0.3872\n",
            "Epoch 148/200\n",
            "1/1 [==============================] - 8s 8s/step - loss: 1.9756 - accuracy: 0.3891\n",
            "Epoch 149/200\n",
            "1/1 [==============================] - 8s 8s/step - loss: 1.9729 - accuracy: 0.3906\n",
            "Epoch 150/200\n",
            "1/1 [==============================] - 8s 8s/step - loss: 1.9667 - accuracy: 0.3925\n",
            "Epoch 151/200\n",
            "1/1 [==============================] - 8s 8s/step - loss: 1.9643 - accuracy: 0.3911\n",
            "Epoch 152/200\n",
            "1/1 [==============================] - 8s 8s/step - loss: 1.9637 - accuracy: 0.3913\n",
            "Epoch 153/200\n",
            "1/1 [==============================] - 8s 8s/step - loss: 1.9627 - accuracy: 0.3935\n",
            "Epoch 154/200\n",
            "1/1 [==============================] - 8s 8s/step - loss: 1.9644 - accuracy: 0.3949\n",
            "Epoch 155/200\n",
            "1/1 [==============================] - 8s 8s/step - loss: 1.9657 - accuracy: 0.3911\n",
            "Epoch 156/200\n",
            "1/1 [==============================] - 8s 8s/step - loss: 1.9605 - accuracy: 0.3928\n",
            "Epoch 157/200\n",
            "1/1 [==============================] - 8s 8s/step - loss: 1.9601 - accuracy: 0.3908\n",
            "Epoch 158/200\n",
            "1/1 [==============================] - 8s 8s/step - loss: 1.9549 - accuracy: 0.3957\n",
            "Epoch 159/200\n",
            "1/1 [==============================] - 8s 8s/step - loss: 1.9481 - accuracy: 0.4008\n",
            "Epoch 160/200\n",
            "1/1 [==============================] - 8s 8s/step - loss: 1.9472 - accuracy: 0.3985\n",
            "Epoch 161/200\n",
            "1/1 [==============================] - 8s 8s/step - loss: 1.9468 - accuracy: 0.3996\n",
            "Epoch 162/200\n",
            "1/1 [==============================] - 8s 8s/step - loss: 1.9464 - accuracy: 0.3988\n",
            "Epoch 163/200\n",
            "1/1 [==============================] - 8s 8s/step - loss: 1.9420 - accuracy: 0.4001\n",
            "Epoch 164/200\n",
            "1/1 [==============================] - 8s 8s/step - loss: 1.9397 - accuracy: 0.4007\n",
            "Epoch 165/200\n",
            "1/1 [==============================] - 8s 8s/step - loss: 1.9425 - accuracy: 0.4011\n",
            "Epoch 166/200\n",
            "1/1 [==============================] - 8s 8s/step - loss: 1.9387 - accuracy: 0.3999\n",
            "Epoch 167/200\n",
            "1/1 [==============================] - 8s 8s/step - loss: 1.9316 - accuracy: 0.4058\n",
            "Epoch 168/200\n",
            "1/1 [==============================] - 8s 8s/step - loss: 1.9289 - accuracy: 0.4048\n",
            "Epoch 169/200\n",
            "1/1 [==============================] - 8s 8s/step - loss: 1.9293 - accuracy: 0.4041\n",
            "Epoch 170/200\n",
            "1/1 [==============================] - 8s 8s/step - loss: 1.9289 - accuracy: 0.4075\n",
            "Epoch 171/200\n",
            "1/1 [==============================] - 8s 8s/step - loss: 1.9264 - accuracy: 0.4055\n",
            "Epoch 172/200\n",
            "1/1 [==============================] - 8s 8s/step - loss: 1.9250 - accuracy: 0.4054\n",
            "Epoch 173/200\n",
            "1/1 [==============================] - 8s 8s/step - loss: 1.9247 - accuracy: 0.4068\n",
            "Epoch 174/200\n",
            "1/1 [==============================] - 8s 8s/step - loss: 1.9206 - accuracy: 0.4062\n",
            "Epoch 175/200\n",
            "1/1 [==============================] - 9s 9s/step - loss: 1.9139 - accuracy: 0.4091\n",
            "Epoch 176/200\n",
            "1/1 [==============================] - 9s 9s/step - loss: 1.9172 - accuracy: 0.4088\n",
            "Epoch 177/200\n",
            "1/1 [==============================] - 9s 9s/step - loss: 1.9169 - accuracy: 0.4088\n",
            "Epoch 178/200\n",
            "1/1 [==============================] - 9s 9s/step - loss: 1.9127 - accuracy: 0.4116\n",
            "Epoch 179/200\n",
            "1/1 [==============================] - 9s 9s/step - loss: 1.9126 - accuracy: 0.4100\n",
            "Epoch 180/200\n",
            "1/1 [==============================] - 9s 9s/step - loss: 1.9101 - accuracy: 0.4124\n",
            "Epoch 181/200\n",
            "1/1 [==============================] - 9s 9s/step - loss: 1.9123 - accuracy: 0.4084\n",
            "Epoch 182/200\n",
            "1/1 [==============================] - 9s 9s/step - loss: 1.9189 - accuracy: 0.4068\n",
            "Epoch 183/200\n",
            "1/1 [==============================] - 9s 9s/step - loss: 1.9280 - accuracy: 0.4017\n",
            "Epoch 184/200\n",
            "1/1 [==============================] - 9s 9s/step - loss: 1.9215 - accuracy: 0.4074\n",
            "Epoch 185/200\n",
            "1/1 [==============================] - 9s 9s/step - loss: 1.9092 - accuracy: 0.4126\n",
            "Epoch 186/200\n",
            "1/1 [==============================] - 9s 9s/step - loss: 1.9044 - accuracy: 0.4095\n",
            "Epoch 187/200\n",
            "1/1 [==============================] - 9s 9s/step - loss: 1.9091 - accuracy: 0.4102\n",
            "Epoch 188/200\n",
            "1/1 [==============================] - 9s 9s/step - loss: 1.9117 - accuracy: 0.4099\n",
            "Epoch 189/200\n",
            "1/1 [==============================] - 9s 9s/step - loss: 1.8972 - accuracy: 0.4125\n",
            "Epoch 190/200\n",
            "1/1 [==============================] - 9s 9s/step - loss: 1.8966 - accuracy: 0.4146\n",
            "Epoch 191/200\n",
            "1/1 [==============================] - 9s 9s/step - loss: 1.9005 - accuracy: 0.4131\n",
            "Epoch 192/200\n",
            "1/1 [==============================] - 9s 9s/step - loss: 1.8953 - accuracy: 0.4171\n",
            "Epoch 193/200\n",
            "1/1 [==============================] - 9s 9s/step - loss: 1.8896 - accuracy: 0.4158\n",
            "Epoch 194/200\n",
            "1/1 [==============================] - 9s 9s/step - loss: 1.8913 - accuracy: 0.4166\n",
            "Epoch 195/200\n",
            "1/1 [==============================] - 9s 9s/step - loss: 1.8915 - accuracy: 0.4176\n",
            "Epoch 196/200\n",
            "1/1 [==============================] - 9s 9s/step - loss: 1.8816 - accuracy: 0.4198\n",
            "Epoch 197/200\n",
            "1/1 [==============================] - 9s 9s/step - loss: 1.8847 - accuracy: 0.4182\n",
            "Epoch 198/200\n",
            "1/1 [==============================] - 9s 9s/step - loss: 1.8852 - accuracy: 0.4197\n",
            "Epoch 199/200\n",
            "1/1 [==============================] - 9s 9s/step - loss: 1.8795 - accuracy: 0.4179\n",
            "Epoch 200/200\n",
            "1/1 [==============================] - 9s 9s/step - loss: 1.8778 - accuracy: 0.4215\n"
          ]
        }
      ],
      "source": [
        "tf.config.run_functions_eagerly(True)\n",
        "# train_Y, train_X = tuple(zip(*train))\n",
        "history = model.fit(trainset,epochs=200,validation_data=testset)"
      ]
    },
    {
      "cell_type": "markdown",
      "source": [
        "Accuracy"
      ],
      "metadata": {
        "id": "oPr1L-IUewMc"
      }
    },
    {
      "cell_type": "code",
      "source": [
        "import matplotlib.pyplot as plt\n",
        "plt.figure(figsize = (15, 5))\n",
        "plt.plot(history.history['accuracy'], \"darkgreen\", label= \"accuracy\")\n",
        "plt.xlabel('Epoch')\n",
        "plt.legend()"
      ],
      "metadata": {
        "colab": {
          "base_uri": "https://localhost:8080/",
          "height": 341
        },
        "id": "YkgBKekTeu87",
        "outputId": "634663d2-1fe6-4984-9b15-8d9fae646d3a"
      },
      "execution_count": 30,
      "outputs": [
        {
          "output_type": "execute_result",
          "data": {
            "text/plain": [
              "<matplotlib.legend.Legend at 0x7f609e590b10>"
            ]
          },
          "metadata": {},
          "execution_count": 30
        },
        {
          "output_type": "display_data",
          "data": {
            "text/plain": [
              "<Figure size 1080x360 with 1 Axes>"
            ],
            "image/png": "[encoded data removed]"
          },
          "metadata": {
            "needs_background": "light"
          }
        }
      ]
    },
    {
      "cell_type": "markdown",
      "source": [
        "Loss"
      ],
      "metadata": {
        "id": "lpwwxf0xexMO"
      }
    },
    {
      "cell_type": "code",
      "source": [
        "plt.figure(figsize = (15, 5))\n",
        "plt.plot(history.history['loss'], \"darkgreen\", label= \"loss\")\n",
        "plt.xlabel('Epoch')\n",
        "plt.legend()"
      ],
      "metadata": {
        "colab": {
          "base_uri": "https://localhost:8080/",
          "height": 343
        },
        "id": "m8aMsUGmeuo8",
        "outputId": "4479c4ef-6402-4105-a209-e4910f4d7893"
      },
      "execution_count": 31,
      "outputs": [
        {
          "output_type": "execute_result",
          "data": {
            "text/plain": [
              "<matplotlib.legend.Legend at 0x7f609e508090>"
            ]
          },
          "metadata": {},
          "execution_count": 31
        },
        {
          "output_type": "display_data",
          "data": {
            "text/plain": [
              "<Figure size 1080x360 with 1 Axes>"
            ],
            "image/png": "[encoded data removed]"
          },
          "metadata": {
            "needs_background": "light"
          }
        }
      ]
    },
    {
      "cell_type": "markdown",
      "source": [
        "## Training: Improvements"
      ],
      "metadata": {
        "id": "C9hETBri-ELu"
      }
    },
    {
      "cell_type": "code",
      "source": [
        "cv.imread('the-rvlcdip-dataset-test/test/advertisement/00001014.tif').shape"
      ],
      "metadata": {
        "colab": {
          "base_uri": "https://localhost:8080/"
        },
        "id": "bcyFev-dr92g",
        "outputId": "7dbc5310-e837-4774-c0ed-c9366b560fbb"
      },
      "execution_count": 4,
      "outputs": [
        {
          "output_type": "execute_result",
          "data": {
            "text/plain": [
              "(1000, 754, 3)"
            ]
          },
          "metadata": {},
          "execution_count": 4
        }
      ]
    },
    {
      "cell_type": "markdown",
      "source": [
        "#### Resizing Images"
      ],
      "metadata": {
        "id": "aPchxSvhgD12"
      }
    },
    {
      "cell_type": "code",
      "source": [
        "if os.path.exists(\"./rvlcdip2.pkl\"):\n",
        "  df = pd.read_pickle(\"./rvlcdip2.pkl\")\n",
        "else:\n",
        "  df,dir_enum = create_dataset(data_dir,128,128)\n",
        "  df.to_pickle(\"./rvlcdip2.pkl\")\n",
        "ds = tf.data.Dataset.from_tensors((list(df['image'].values), df['label'].values))\n",
        "ds"
      ],
      "metadata": {
        "colab": {
          "base_uri": "https://localhost:8080/"
        },
        "id": "q5aKrI2JgFVA",
        "outputId": "58e174b4-6425-4eb5-8e0c-ac883766a122"
      },
      "execution_count": 4,
      "outputs": [
        {
          "output_type": "execute_result",
          "data": {
            "text/plain": [
              "<TensorDataset element_spec=(TensorSpec(shape=(39996, 128, 128, 3), dtype=tf.float32, name=None), TensorSpec(shape=(39996,), dtype=tf.int64, name=None))>"
            ]
          },
          "metadata": {},
          "execution_count": 4
        }
      ]
    },
    {
      "cell_type": "code",
      "source": [
        "def image_patcher(image):\n",
        "    img = tf.image.resize(image, [120, 120])\n",
        "    # img = cv.cvtColor(img.numpy(), cv.COLOR_BGR2GRAY)\n",
        "    img1 = img[0:30, 0:120]\n",
        "    img2 = img[30:90, 0:60]\n",
        "    img3 = img[30:90, 60:120]\n",
        "    img4 = img[90:120, 0:120]\n",
        "    img = np.asarray([tf.image.resize(img1, [48, 48]),\n",
        "                  tf.image.resize(img2, [48, 48]),\n",
        "                  tf.image.resize(img3, [48, 48]),\n",
        "                  tf.image.resize(img4, [48, 48])])\n",
        "    tensor = tf.convert_to_tensor(img)\n",
        "    return tensor\n"
      ],
      "metadata": {
        "id": "jJ9I7h-nt9vM"
      },
      "execution_count": 5,
      "outputs": []
    },
    {
      "cell_type": "code",
      "source": [
        "df['image'] = df['image'].apply(lambda x: image_patcher(x))"
      ],
      "metadata": {
        "id": "ppASCts8StLf"
      },
      "execution_count": 6,
      "outputs": []
    },
    {
      "cell_type": "code",
      "source": [
        "df['image'][0].shape"
      ],
      "metadata": {
        "colab": {
          "base_uri": "https://localhost:8080/"
        },
        "id": "4NZG3-zdYDzS",
        "outputId": "aab291ee-a3e5-452a-ae42-e0c83837f5c3"
      },
      "execution_count": 7,
      "outputs": [
        {
          "output_type": "execute_result",
          "data": {
            "text/plain": [
              "TensorShape([4, 48, 48, 3])"
            ]
          },
          "metadata": {},
          "execution_count": 7
        }
      ]
    },
    {
      "cell_type": "markdown",
      "source": [
        "#### Improving Split"
      ],
      "metadata": {
        "id": "gaj2wDCPjGXD"
      }
    },
    {
      "cell_type": "code",
      "source": [
        "from sklearn.model_selection import train_test_split\n",
        "\n",
        "X_train, X_test, y_train, y_test = train_test_split(df['image'], df['label'], test_size=0.30, random_state=42)\n",
        "\n",
        "train_ds = tf.data.Dataset.from_tensors((list(X_train.values), y_train.values))\n",
        "test_ds = tf.data.Dataset.from_tensors((list(X_test.values), y_test.values))"
      ],
      "metadata": {
        "id": "PRhJFOe-jEMT"
      },
      "execution_count": 41,
      "outputs": []
    },
    {
      "cell_type": "code",
      "source": [
        "# train_ds = train_ds.shuffle(1000)\n",
        "# test_ds = test_ds.shuffle(1000)"
      ],
      "metadata": {
        "id": "OCveG90RAAT6"
      },
      "execution_count": 42,
      "outputs": []
    },
    {
      "cell_type": "code",
      "source": [
        "# def rem_count(t):\n",
        "#   for x,y in t:\n",
        "#     return tf.shape(tf.squeeze(x, [0]))"
      ],
      "metadata": {
        "id": "ciwehYK3nxgh"
      },
      "execution_count": 43,
      "outputs": []
    },
    {
      "cell_type": "code",
      "source": [
        "# train_ds = train_ds.apply(rem_count)\n",
        "# test_ds = test_ds.apply(rem_count)"
      ],
      "metadata": {
        "id": "HiWOlxTooD_L"
      },
      "execution_count": 44,
      "outputs": []
    },
    {
      "cell_type": "code",
      "source": [
        "for x,y in train_ds:\n",
        "  print(x.shape)"
      ],
      "metadata": {
        "colab": {
          "base_uri": "https://localhost:8080/"
        },
        "id": "4zCAnfAJnZLl",
        "outputId": "8183506d-f0a3-4235-c5ee-134f1939b7a0"
      },
      "execution_count": 45,
      "outputs": [
        {
          "output_type": "stream",
          "name": "stdout",
          "text": [
            "(27997, 4, 48, 48, 3)\n"
          ]
        }
      ]
    },
    {
      "cell_type": "markdown",
      "source": [
        "Adding validation set"
      ],
      "metadata": {
        "id": "y63yFOQolFm3"
      }
    },
    {
      "cell_type": "markdown",
      "source": [
        "#### Improving architecture"
      ],
      "metadata": {
        "id": "dZq8pkYw-M1a"
      }
    },
    {
      "cell_type": "markdown",
      "source": [
        "Added dropout layers to hidden layers "
      ],
      "metadata": {
        "id": "ffgFRXZom4dr"
      }
    },
    {
      "cell_type": "code",
      "source": [
        "input_shape = (4, 48, 48, 3)\n",
        "\n",
        "\n",
        "model2 = tf.keras.models.Sequential()\n",
        "\n",
        "model2.add(tf.keras.layers.TimeDistributed(tf.keras.layers.Conv2D(32, (3, 3), activation='relu'),input_shape=input_shape)) # input layer\n",
        "#hidden layer#\n",
        "model2.add(tf.keras.layers.TimeDistributed(tf.keras.layers.MaxPooling2D((2, 2),data_format=\"channels_last\")))\n",
        "model2.add(tf.keras.layers.TimeDistributed(tf.keras.layers.Dropout(0.2)))\n",
        "model2.add(tf.keras.layers.TimeDistributed(tf.keras.layers.Conv2D(64, (3, 3), activation='relu',data_format=\"channels_last\")))\n",
        "model2.add(tf.keras.layers.TimeDistributed(tf.keras.layers.MaxPooling2D((2, 2),data_format=\"channels_last\")))\n",
        "model2.add(tf.keras.layers.TimeDistributed(tf.keras.layers.Dropout(0.2)))\n",
        "#############\n",
        "model2.add(tf.keras.layers.TimeDistributed(tf.keras.layers.Conv2D(64, (3, 3), activation='relu',data_format=\"channels_last\"))) # output layer\n",
        "model2.add(tf.keras.layers.TimeDistributed(tf.keras.layers.Flatten()))\n",
        "##Dense layers##\n",
        "# model2.add(tf.keras.layers.Flatten())\n",
        "model2.add(tf.keras.layers.GlobalAveragePooling1D())\n",
        "model2.add(tf.keras.layers.Dense(64, activation='relu'))\n",
        "model2.add(tf.keras.layers.Dense(17))\n",
        "#############\n",
        "\n",
        "model2.summary()"
      ],
      "metadata": {
        "id": "Q4xbTPpi-NNZ",
        "colab": {
          "base_uri": "https://localhost:8080/"
        },
        "outputId": "5bb50b8e-3188-4266-f71b-a04a26f2e518"
      },
      "execution_count": 48,
      "outputs": [
        {
          "output_type": "stream",
          "name": "stdout",
          "text": [
            "Model: \"sequential_5\"\n",
            "_________________________________________________________________\n",
            " Layer (type)                Output Shape              Param #   \n",
            "=================================================================\n",
            " time_distributed_15 (TimeDi  (None, 4, 46, 46, 32)    896       \n",
            " stributed)                                                      \n",
            "                                                                 \n",
            " time_distributed_16 (TimeDi  (None, 4, 23, 23, 32)    0         \n",
            " stributed)                                                      \n",
            "                                                                 \n",
            " time_distributed_17 (TimeDi  (None, 4, 23, 23, 32)    0         \n",
            " stributed)                                                      \n",
            "                                                                 \n",
            " time_distributed_18 (TimeDi  (None, 4, 21, 21, 64)    18496     \n",
            " stributed)                                                      \n",
            "                                                                 \n",
            " time_distributed_19 (TimeDi  (None, 4, 10, 10, 64)    0         \n",
            " stributed)                                                      \n",
            "                                                                 \n",
            " time_distributed_20 (TimeDi  (None, 4, 10, 10, 64)    0         \n",
            " stributed)                                                      \n",
            "                                                                 \n",
            " time_distributed_21 (TimeDi  (None, 4, 8, 8, 64)      36928     \n",
            " stributed)                                                      \n",
            "                                                                 \n",
            " time_distributed_22 (TimeDi  (None, 4, 4096)          0         \n",
            " stributed)                                                      \n",
            "                                                                 \n",
            " global_average_pooling1d (G  (None, 4096)             0         \n",
            " lobalAveragePooling1D)                                          \n",
            "                                                                 \n",
            " dense_4 (Dense)             (None, 64)                262208    \n",
            "                                                                 \n",
            " dense_5 (Dense)             (None, 17)                1105      \n",
            "                                                                 \n",
            "=================================================================\n",
            "Total params: 319,633\n",
            "Trainable params: 319,633\n",
            "Non-trainable params: 0\n",
            "_________________________________________________________________\n"
          ]
        }
      ]
    },
    {
      "cell_type": "code",
      "source": [
        "# ann_viz(model, view=True, title=\"DOC CNN v2\", filename='./doccnn2.gv')"
      ],
      "metadata": {
        "id": "joMJzAuJAPrh"
      },
      "execution_count": 49,
      "outputs": []
    },
    {
      "cell_type": "markdown",
      "source": [
        "#### Implementing Learning Rate Scheduler & Early Stopping"
      ],
      "metadata": {
        "id": "xxlDndfJ-OID"
      }
    },
    {
      "cell_type": "code",
      "source": [
        "from keras.callbacks import EarlyStopping\n",
        "def scheduler(epoch, lr):\n",
        "  if epoch < 10:\n",
        "    return lr\n",
        "  else:\n",
        "    return lr * tf.math.exp(-0.1)\n",
        "callback = tf.keras.callbacks.LearningRateScheduler(scheduler)\n",
        "earlyStopping = EarlyStopping(monitor = 'loss', patience = 10, mode = 'min', restore_best_weights = True)"
      ],
      "metadata": {
        "id": "CXqUUmoa-PWb"
      },
      "execution_count": 50,
      "outputs": []
    },
    {
      "cell_type": "markdown",
      "source": [
        "#### Train Stage"
      ],
      "metadata": {
        "id": "0FvRoqnYTc86"
      }
    },
    {
      "cell_type": "code",
      "source": [
        "model2.compile(optimizer='adam',\n",
        "              loss=tf.keras.losses.SparseCategoricalCrossentropy(from_logits=True),\n",
        "              metrics=['accuracy'],run_eagerly=True,)"
      ],
      "metadata": {
        "id": "1qWfRSLX4mk_"
      },
      "execution_count": 51,
      "outputs": []
    },
    {
      "cell_type": "code",
      "source": [
        "#Increased Epochs to 100\n",
        "tf.config.run_functions_eagerly(True)\n",
        "history = model2.fit(train_ds, epochs=50,callbacks=[callback,earlyStopping],validation_data=test_ds)"
      ],
      "metadata": {
        "colab": {
          "base_uri": "https://localhost:8080/"
        },
        "id": "q4otp0C_4tsh",
        "outputId": "cec8f7cb-9ecb-41d2-a2d6-41b97167c815"
      },
      "execution_count": null,
      "outputs": [
        {
          "output_type": "stream",
          "name": "stdout",
          "text": [
            "Epoch 1/50\n"
          ]
        }
      ]
    },
    {
      "cell_type": "markdown",
      "source": [
        "Accuracy"
      ],
      "metadata": {
        "id": "B4sExLi3VMMn"
      }
    },
    {
      "cell_type": "code",
      "source": [
        "\n",
        "plt.figure(figsize = (15, 5))\n",
        "plt.plot(history.history['accuracy'], \"darkgreen\", label= \"accuracy\")\n",
        "plt.xlabel('Epoch')\n",
        "plt.legend()\n"
      ],
      "metadata": {
        "id": "JNEIhRBT40jR"
      },
      "execution_count": null,
      "outputs": []
    },
    {
      "cell_type": "markdown",
      "source": [
        "Loss"
      ],
      "metadata": {
        "id": "pIGCOFi7VNcR"
      }
    },
    {
      "cell_type": "code",
      "source": [
        "plt.figure(figsize = (15, 5))\n",
        "plt.plot(history.history['loss'], \"darkgreen\", label= \"loss\")\n",
        "plt.xlabel('Epoch')\n",
        "plt.legend()"
      ],
      "metadata": {
        "id": "_eU91kclVLl4"
      },
      "execution_count": null,
      "outputs": []
    },
    {
      "cell_type": "code",
      "source": [],
      "metadata": {
        "id": "BxdgwgF3d9fI"
      },
      "execution_count": null,
      "outputs": []
    }
  ],
  "metadata": {
    "accelerator": "TPU",
    "colab": {
      "collapsed_sections": [],
      "machine_shape": "hm",
      "provenance": [],
      "include_colab_link": true
    },
    "gpuClass": "premium",
    "interpreter": {
      "hash": "2a18d7e282ac8b0cb69db214474cc662eb347ccc6a773e5a2901e4fbc455c40d"
    },
    "kernelspec": {
      "display_name": "Python 3.9.7 ('base')",
      "language": "python",
      "name": "python3"
    },
    "language_info": {
      "codemirror_mode": {
        "name": "ipython",
        "version": 3
      },
      "file_extension": ".py",
      "mimetype": "text/x-python",
      "name": "python",
      "nbconvert_exporter": "python",
      "pygments_lexer": "ipython3",
      "version": "3.9.7"
    }
  },
  "nbformat": 4,
  "nbformat_minor": 0
}